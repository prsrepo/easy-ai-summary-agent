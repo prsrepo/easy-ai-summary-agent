{
 "cells": [
  {
   "metadata": {
    "ExecuteTime": {
     "end_time": "2025-09-03T00:36:44.346493Z",
     "start_time": "2025-09-03T00:36:44.321624Z"
    }
   },
   "cell_type": "code",
   "source": [
    "from langchain_core.messages import SystemMessage, HumanMessage\n",
    "from langgraph.graph import StateGraph, START, END\n",
    "from langchain.chat_models import init_chat_model\n",
    "from langchain_tavily.tavily_search import TavilySearch\n",
    "from typing import TypedDict, Literal\n",
    "from dotenv import load_dotenv\n",
    "from langgraph_runtime_inmem.checkpoint import InMemorySaver\n",
    "from langgraph.types import interrupt, Command\n",
    "\n",
    "\n",
    "load_dotenv()\n",
    "\n",
    "\n",
    "class State(TypedDict):\n",
    "    user_msg: str | None\n",
    "    summary: str | None\n",
    "    is_approved: bool | None\n",
    "    llm_output: str | None\n",
    "\n",
    "\n",
    "def human_approval(state: State) -> Command[Literal[\"print_summary\", \"assistant\"]]:\n",
    "    return interrupt(\n",
    "        {\n",
    "            \"question\": \"Do you accept the summary?\",\n",
    "            \"llm_output\": state[\"summary\"],\n",
    "        }\n",
    "    )\n",
    "\n",
    "llm = init_chat_model(\"openai:gpt-4.1\")\n",
    "\n",
    "search_tool = TavilySearch(max_results=3)\n",
    "\n",
    "sys_msg = SystemMessage(content=\"\"\"\n",
    "You are a helpful assistant tasked with summarizing websearch results based on the user search query.\n",
    "* Given the web search results based on the user search query summarize it and present in a readable format.\n",
    "\"\"\")\n",
    "\n",
    "user_prompt = \"\"\"\n",
    "given the following web input:\n",
    "{user_input}\n",
    "these are the web results:\n",
    "{web_results}\n",
    "\"\"\"\n",
    "\n",
    "# Node\n",
    "def assistant(state: State):\n",
    "    user_message = state[\"user_msg\"]\n",
    "    results = search_tool.invoke(user_message)\n",
    "    web_result_content = \"\\n\".join([r[\"content\"] for r in results.get(\"results\", [])])\n",
    "    user_msg = HumanMessage(content=user_prompt.format(user_input=user_message, web_results=web_result_content))\n",
    "    return {\"summary\": llm.invoke([sys_msg] + [user_msg])}\n",
    "\n",
    "# Node\n",
    "def print_summary(state: State):\n",
    "    summary = state[\"summary\"]\n",
    "    print(\"\\n=== SUMMARY ===\\n\")\n",
    "    print(summary)\n",
    "    print(\"\\n===============\")\n",
    "\n",
    "graph_builder = StateGraph(State)\n",
    "\n",
    "graph_builder.add_node(\"assistant\", assistant)\n",
    "graph_builder.add_node(\"human_approval\", human_approval)\n",
    "graph_builder.add_node(\"print_summary\", print_summary)\n",
    "\n",
    "graph_builder.add_edge(START, \"assistant\")\n",
    "graph_builder.add_edge(\"assistant\", \"human_approval\")\n",
    "\n",
    "graph_builder.add_edge(\"human_approval\", \"print_summary\")\n",
    "graph_builder.add_conditional_edges(\n",
    "    \"human_approval\",\n",
    "    lambda user_input: \"print_summary\" if user_input else \"assistant\"\n",
    ")\n",
    "graph_builder.add_edge(\"print_summary\", END)\n",
    "\n",
    "checkpointer = InMemorySaver()\n",
    "\n",
    "graph = graph_builder.compile(checkpointer=checkpointer)\n"
   ],
   "id": "f5dd22e582450871",
   "outputs": [],
   "execution_count": 68
  },
  {
   "metadata": {
    "ExecuteTime": {
     "end_time": "2025-09-03T00:36:51.200204Z",
     "start_time": "2025-09-03T00:36:45.794959Z"
    }
   },
   "cell_type": "code",
   "source": [
    "thread_config = {\"configurable\": {\"thread_id\": \"summarization_1\"}}\n",
    "\n",
    "resp = graph.invoke({\"user_msg\": \"whats happening in Ukraine now?\"}, config=thread_config)"
   ],
   "id": "6a021738e9b3eccb",
   "outputs": [],
   "execution_count": 69
  },
  {
   "metadata": {
    "ExecuteTime": {
     "end_time": "2025-09-03T00:32:00.011737Z",
     "start_time": "2025-09-03T00:32:00.008136Z"
    }
   },
   "cell_type": "code",
   "source": "print(resp['summary'].content)",
   "id": "5e4bfa14e9500f75",
   "outputs": [
    {
     "name": "stdout",
     "output_type": "stream",
     "text": [
      "Here’s a summary of the latest developments in Ukraine based on your web search results:\n",
      "\n",
      "- Russia has launched new attacks on Ukraine’s Zaporizhia region, resulting in at least one death and 28 wounded, including children.\n",
      "- Ukrainian forces have responded by striking Russian oil refineries.\n",
      "- There have been multiple explosions in western Ukrainian cities due to a large-scale drone attack by Russia overnight.\n",
      "- The situation remains very active, with ongoing and escalating attacks as the war continues.\n",
      "\n",
      "Overall, the region is experiencing intensified fighting, with both sides carrying out strikes—Russia on Ukrainian cities and Ukraine targeting Russian infrastructure.\n"
     ]
    }
   ],
   "execution_count": 64
  },
  {
   "metadata": {
    "ExecuteTime": {
     "end_time": "2025-09-03T00:38:44.518520Z",
     "start_time": "2025-09-03T00:38:36.681190Z"
    }
   },
   "cell_type": "code",
   "source": [
    "def run_cli():\n",
    "    thread_config = {\"configurable\": {\"thread_id\": \"summarization_1\"}}\n",
    "    query = input(\"Enter your search query: \")\n",
    "    state = {\"user_msg\": query}\n",
    "\n",
    "    # initial run\n",
    "    for event in graph.stream(state, config=thread_config):\n",
    "        for node, value in event.items():\n",
    "            if node == \"human_approval\":\n",
    "                print(\"\\n--- SUMMARY DRAFT ---\\n\")\n",
    "                print(value[\"llm_output\"])\n",
    "                print(\"\\n---------------------\\n\")\n",
    "\n",
    "                # ask human\n",
    "                while True:\n",
    "                    choice = input(\"Do you approve? (y/n): \").strip().lower()\n",
    "                    if choice in (\"y\", \"n\"):\n",
    "                        break\n",
    "\n",
    "                approved = choice == \"y\"\n",
    "\n",
    "                # resume graph\n",
    "                for resumed in graph.resume(approved, name=\"human_approval\"):\n",
    "                    pass\n",
    "\n",
    "run_cli()\n"
   ],
   "id": "34a74502956989b9",
   "outputs": [],
   "execution_count": 72
  },
  {
   "metadata": {
    "ExecuteTime": {
     "end_time": "2025-09-03T00:38:55.514945Z",
     "start_time": "2025-09-03T00:38:54.876925Z"
    }
   },
   "cell_type": "code",
   "source": [
    "from IPython.display import Image, display\n",
    "\n",
    "try:\n",
    "    display(Image(graph.get_graph().draw_mermaid_png()))\n",
    "except Exception:\n",
    "    # This requires some extra dependencies and is optional\n",
    "    pass"
   ],
   "id": "fcb4e81d1094e9e7",
   "outputs": [
    {
     "data": {
      "image/png": "[encoded data removed]",
      "text/plain": [
       "<IPython.core.display.Image object>"
      ]
     },
     "metadata": {},
     "output_type": "display_data",
     "jetTransient": {
      "display_id": null
     }
    }
   ],
   "execution_count": 73
  },
  {
   "metadata": {},
   "cell_type": "code",
   "outputs": [],
   "execution_count": null,
   "source": "",
   "id": "85d04ffc6afd216c"
  }
 ],
 "metadata": {
  "kernelspec": {
   "display_name": "Python 3",
   "language": "python",
   "name": "python3"
  },
  "language_info": {
   "codemirror_mode": {
    "name": "ipython",
    "version": 2
   },
   "file_extension": ".py",
   "mimetype": "text/x-python",
   "name": "python",
   "nbconvert_exporter": "python",
   "pygments_lexer": "ipython2",
   "version": "2.7.6"
  }
 },
 "nbformat": 4,
 "nbformat_minor": 5
}
